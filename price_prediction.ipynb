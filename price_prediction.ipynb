{
 "cells": [
  {
   "cell_type": "code",
   "execution_count": 1,
   "id": "2bffbdc1",
   "metadata": {},
   "outputs": [],
   "source": [
    "import seaborn as sb\n",
    "import numpy as np\n",
    "import pandas as pd\n",
    "import matplotlib.pyplot as plt\n",
    "import seaborn as sns"
   ]
  },
  {
   "cell_type": "code",
   "execution_count": 50,
   "id": "4a5b8fc7",
   "metadata": {},
   "outputs": [
    {
     "data": {
      "text/plain": [
       "Index(['Unnamed: 0', 'generation biomass',\n",
       "       'generation fossil brown coal/lignite',\n",
       "       'generation fossil coal-derived gas', 'generation fossil gas',\n",
       "       'generation fossil hard coal', 'generation fossil oil',\n",
       "       'generation fossil oil shale', 'generation fossil peat',\n",
       "       'generation geothermal', 'generation hydro pumped storage aggregated',\n",
       "       'generation hydro pumped storage consumption',\n",
       "       'generation hydro run-of-river and poundage',\n",
       "       'generation hydro water reservoir', 'generation marine',\n",
       "       'generation nuclear', 'generation other', 'generation other renewable',\n",
       "       'generation solar', 'generation waste', 'generation wind offshore',\n",
       "       'generation wind onshore', 'forecast solar day ahead',\n",
       "       'forecast wind offshore eday ahead', 'forecast wind onshore day ahead',\n",
       "       'total load forecast', 'total load actual', 'price day ahead',\n",
       "       'price actual', 'temp', 'temp_min', 'temp_max', 'pressure', 'humidity',\n",
       "       'wind_speed', 'wind_deg', 'rain_1h', 'rain_3h', 'snow_3h', 'clouds_all',\n",
       "       'weather_id'],\n",
       "      dtype='object')"
      ]
     },
     "execution_count": 50,
     "metadata": {},
     "output_type": "execute_result"
    }
   ],
   "source": [
    "df = pd.read_csv(\"../Josh/AvgEnergyWeather.csv\")\n",
    "df.columns"
   ]
  },
  {
   "cell_type": "code",
   "execution_count": 82,
   "id": "a7d6b39d",
   "metadata": {},
   "outputs": [
    {
     "data": {
      "text/plain": [
       "((32257, 9), (32257, 1), (32257, 1))"
      ]
     },
     "execution_count": 82,
     "metadata": {},
     "output_type": "execute_result"
    }
   ],
   "source": [
    "weather_features = [\n",
    "    \"temp\",\n",
    "    \"pressure\",\n",
    "    \"humidity\",\n",
    "    \"wind_speed\",\n",
    "    \"wind_deg\",\n",
    "    \"rain_1h\",\n",
    "    \"rain_3h\",\n",
    "    \"snow_3h\",\n",
    "    \"clouds_all\",\n",
    "]\n",
    "df = pd.DataFrame(df, columns=weather_features + [\"price actual\", \"total load actual\"])\n",
    "df.dropna(inplace=True)\n",
    "weather_df = pd.DataFrame(df, columns=weather_categories)\n",
    "price = pd.DataFrame(df, columns=[\"price actual\"])\n",
    "load = pd.DataFrame(df, columns=[\"total load actual\"])\n",
    "weather_df.shape, price.shape, load.shape"
   ]
  },
  {
   "cell_type": "code",
   "execution_count": 86,
   "id": "2c658295",
   "metadata": {},
   "outputs": [
    {
     "name": "stdout",
     "output_type": "stream",
     "text": [
      "temp: (272.024, 306.828)\n",
      "pressure: (812.4, 202469.2)\n",
      "humidity: (26.6, 98.6)\n",
      "wind_speed: (0.2, 28.8)\n",
      "wind_deg: (0.0, 334.8)\n",
      "rain_1h: (0.0, 3.06)\n",
      "rain_3h: (0.0, 0.4629999999999999)\n",
      "snow_3h: (0.0, 4.3)\n",
      "clouds_all: (0.0, 92.0)\n"
     ]
    }
   ],
   "source": [
    "for feature in weather_features:\n",
    "    print(f\"{feature}: {df.describe()[feature]['min'], df.describe()[feature]['max']}\")"
   ]
  },
  {
   "cell_type": "code",
   "execution_count": 53,
   "id": "3299503a",
   "metadata": {},
   "outputs": [],
   "source": [
    "from sklearn.preprocessing import MinMaxScaler\n",
    "\n",
    "scaler = MinMaxScaler()\n",
    "weather_df, price, load = (\n",
    "    scaler.fit_transform(weather_df),\n",
    "    scaler.fit_transform(price),\n",
    "    scaler.fit_transform(load),\n",
    ")"
   ]
  },
  {
   "cell_type": "code",
   "execution_count": 62,
   "id": "5882784a",
   "metadata": {},
   "outputs": [
    {
     "data": {
      "text/html": [
       "<div>\n",
       "<style scoped>\n",
       "    .dataframe tbody tr th:only-of-type {\n",
       "        vertical-align: middle;\n",
       "    }\n",
       "\n",
       "    .dataframe tbody tr th {\n",
       "        vertical-align: top;\n",
       "    }\n",
       "\n",
       "    .dataframe thead th {\n",
       "        text-align: right;\n",
       "    }\n",
       "</style>\n",
       "<table border=\"1\" class=\"dataframe\">\n",
       "  <thead>\n",
       "    <tr style=\"text-align: right;\">\n",
       "      <th></th>\n",
       "      <th>0</th>\n",
       "    </tr>\n",
       "  </thead>\n",
       "  <tbody>\n",
       "    <tr>\n",
       "      <th>count</th>\n",
       "      <td>32257.000000</td>\n",
       "    </tr>\n",
       "    <tr>\n",
       "      <th>mean</th>\n",
       "      <td>0.513087</td>\n",
       "    </tr>\n",
       "    <tr>\n",
       "      <th>std</th>\n",
       "      <td>0.138708</td>\n",
       "    </tr>\n",
       "    <tr>\n",
       "      <th>min</th>\n",
       "      <td>0.000000</td>\n",
       "    </tr>\n",
       "    <tr>\n",
       "      <th>25%</th>\n",
       "      <td>0.431004</td>\n",
       "    </tr>\n",
       "    <tr>\n",
       "      <th>50%</th>\n",
       "      <td>0.517601</td>\n",
       "    </tr>\n",
       "    <tr>\n",
       "      <th>75%</th>\n",
       "      <td>0.611619</td>\n",
       "    </tr>\n",
       "    <tr>\n",
       "      <th>max</th>\n",
       "      <td>1.000000</td>\n",
       "    </tr>\n",
       "  </tbody>\n",
       "</table>\n",
       "</div>"
      ],
      "text/plain": [
       "                  0\n",
       "count  32257.000000\n",
       "mean       0.513087\n",
       "std        0.138708\n",
       "min        0.000000\n",
       "25%        0.431004\n",
       "50%        0.517601\n",
       "75%        0.611619\n",
       "max        1.000000"
      ]
     },
     "execution_count": 62,
     "metadata": {},
     "output_type": "execute_result"
    }
   ],
   "source": [
    "pd.DataFrame(price).describe()"
   ]
  },
  {
   "cell_type": "code",
   "execution_count": 64,
   "id": "0a17c46c",
   "metadata": {},
   "outputs": [
    {
     "data": {
      "text/html": [
       "<div>\n",
       "<style scoped>\n",
       "    .dataframe tbody tr th:only-of-type {\n",
       "        vertical-align: middle;\n",
       "    }\n",
       "\n",
       "    .dataframe tbody tr th {\n",
       "        vertical-align: top;\n",
       "    }\n",
       "\n",
       "    .dataframe thead th {\n",
       "        text-align: right;\n",
       "    }\n",
       "</style>\n",
       "<table border=\"1\" class=\"dataframe\">\n",
       "  <thead>\n",
       "    <tr style=\"text-align: right;\">\n",
       "      <th></th>\n",
       "      <th>0</th>\n",
       "    </tr>\n",
       "  </thead>\n",
       "  <tbody>\n",
       "    <tr>\n",
       "      <th>count</th>\n",
       "      <td>32257.000000</td>\n",
       "    </tr>\n",
       "    <tr>\n",
       "      <th>mean</th>\n",
       "      <td>0.457289</td>\n",
       "    </tr>\n",
       "    <tr>\n",
       "      <th>std</th>\n",
       "      <td>0.127293</td>\n",
       "    </tr>\n",
       "    <tr>\n",
       "      <th>min</th>\n",
       "      <td>0.000000</td>\n",
       "    </tr>\n",
       "    <tr>\n",
       "      <th>25%</th>\n",
       "      <td>0.376370</td>\n",
       "    </tr>\n",
       "    <tr>\n",
       "      <th>50%</th>\n",
       "      <td>0.456018</td>\n",
       "    </tr>\n",
       "    <tr>\n",
       "      <th>75%</th>\n",
       "      <td>0.536654</td>\n",
       "    </tr>\n",
       "    <tr>\n",
       "      <th>max</th>\n",
       "      <td>1.000000</td>\n",
       "    </tr>\n",
       "  </tbody>\n",
       "</table>\n",
       "</div>"
      ],
      "text/plain": [
       "                  0\n",
       "count  32257.000000\n",
       "mean       0.457289\n",
       "std        0.127293\n",
       "min        0.000000\n",
       "25%        0.376370\n",
       "50%        0.456018\n",
       "75%        0.536654\n",
       "max        1.000000"
      ]
     },
     "execution_count": 64,
     "metadata": {},
     "output_type": "execute_result"
    }
   ],
   "source": [
    "pd.DataFrame(load).describe()"
   ]
  },
  {
   "cell_type": "code",
   "execution_count": 65,
   "id": "32bf4cbe",
   "metadata": {},
   "outputs": [],
   "source": [
    "from sklearn.model_selection import train_test_split\n",
    "\n",
    "# Split the data by a 80:20 ratio\n",
    "weather_train, weather_test, price_train, price_test = train_test_split(\n",
    "    weather_df, price, test_size=0.2, random_state=5\n",
    ")"
   ]
  },
  {
   "cell_type": "code",
   "execution_count": 66,
   "id": "0774bf0e",
   "metadata": {},
   "outputs": [
    {
     "data": {
      "text/plain": [
       "RandomForestRegressor()"
      ]
     },
     "execution_count": 66,
     "metadata": {},
     "output_type": "execute_result"
    }
   ],
   "source": [
    "from sklearn.ensemble import RandomForestRegressor\n",
    "\n",
    "price_regressor = RandomForestRegressor(n_estimators=100)\n",
    "price_regressor.fit(weather_train, price_train.ravel())"
   ]
  },
  {
   "cell_type": "code",
   "execution_count": 67,
   "id": "2f25fd65",
   "metadata": {},
   "outputs": [],
   "source": [
    "price_train_pred = price_regressor.predict(weather_train)"
   ]
  },
  {
   "cell_type": "code",
   "execution_count": 88,
   "id": "759e4a76",
   "metadata": {},
   "outputs": [
    {
     "name": "stdout",
     "output_type": "stream",
     "text": [
      "Training MSE: 0.002\n",
      "Training RMSE: 0.041\n",
      "Training r2 score: 0.914\n"
     ]
    }
   ],
   "source": [
    "from sklearn.metrics import mean_squared_error, r2_score\n",
    "\n",
    "print(\"Training MSE: %.3f\" % mean_squared_error(price_train, price_train_pred))\n",
    "print(\n",
    "    \"Training RMSE: %.3f\"\n",
    "    % mean_squared_error(price_train, price_train_pred, squared=False)\n",
    ")\n",
    "print(\"Training r2 score: %.3f\" % r2_score(price_train, price_train_pred))"
   ]
  },
  {
   "cell_type": "code",
   "execution_count": 69,
   "id": "53c21ac4",
   "metadata": {},
   "outputs": [],
   "source": [
    "price_test_pred = price_regressor.predict(weather_test)"
   ]
  },
  {
   "cell_type": "code",
   "execution_count": 89,
   "id": "44c72030",
   "metadata": {},
   "outputs": [
    {
     "name": "stdout",
     "output_type": "stream",
     "text": [
      "Testing MSE: 0.012\n",
      "Testing RMSE: 0.109\n",
      "Testing r2 score: 0.383\n"
     ]
    }
   ],
   "source": [
    "print(\"Testing MSE: %.3f\" % mean_squared_error(price_test, price_test_pred))\n",
    "print(\n",
    "    \"Testing RMSE: %.3f\"\n",
    "    % mean_squared_error(price_test, price_test_pred, squared=False)\n",
    ")\n",
    "print(\"Testing r2 score: %.3f\" % r2_score(price_test, price_test_pred))"
   ]
  },
  {
   "cell_type": "code",
   "execution_count": 87,
   "id": "0fda8df3",
   "metadata": {},
   "outputs": [],
   "source": [
    "import pickle5 as pickle \n",
    "\n",
    "with open('../../www/model_pkl', 'wb') as files:\n",
    "    pickle.dump(price_regressor, files)"
   ]
  },
  {
   "cell_type": "markdown",
   "id": "6f8b3ee2",
   "metadata": {},
   "source": [
    "## Regression Model for Total Load"
   ]
  },
  {
   "cell_type": "code",
   "execution_count": 71,
   "id": "6a61e3b9",
   "metadata": {},
   "outputs": [],
   "source": [
    "# Split the data by a 80:20 ratio\n",
    "weather_train, weather_test, load_train, load_test = train_test_split(\n",
    "    weather_df, load, test_size=0.2, random_state=5\n",
    ")"
   ]
  },
  {
   "cell_type": "code",
   "execution_count": 72,
   "id": "ff6b7877",
   "metadata": {},
   "outputs": [
    {
     "data": {
      "text/plain": [
       "RandomForestRegressor()"
      ]
     },
     "execution_count": 72,
     "metadata": {},
     "output_type": "execute_result"
    }
   ],
   "source": [
    "load_regressor = RandomForestRegressor(n_estimators=100)\n",
    "load_regressor.fit(weather_train, load_train.ravel())"
   ]
  },
  {
   "cell_type": "code",
   "execution_count": 74,
   "id": "12090eae",
   "metadata": {},
   "outputs": [],
   "source": [
    "load_train_pred = load_regressor.predict(weather_train)"
   ]
  },
  {
   "cell_type": "code",
   "execution_count": 90,
   "id": "87c886d1",
   "metadata": {},
   "outputs": [
    {
     "name": "stdout",
     "output_type": "stream",
     "text": [
      "Total Load Training MSE: 0.001\n",
      "Total Load Training RMSE: 0.037\n",
      "Training r2 score: 0.915\n"
     ]
    }
   ],
   "source": [
    "print(\"Total Load Training MSE: %.3f\" % mean_squared_error(load_train, load_train_pred))\n",
    "print(\n",
    "    \"Total Load Training RMSE: %.3f\"\n",
    "    % mean_squared_error(load_train, load_train_pred, squared=False)\n",
    ")\n",
    "print(\"Training r2 score: %.3f\" % r2_score(load_train, load_train_pred))"
   ]
  },
  {
   "cell_type": "code",
   "execution_count": 76,
   "id": "948eca43",
   "metadata": {},
   "outputs": [],
   "source": [
    "load_test_pred = load_regressor.predict(weather_test)"
   ]
  },
  {
   "cell_type": "code",
   "execution_count": 91,
   "id": "342835f4",
   "metadata": {},
   "outputs": [
    {
     "name": "stdout",
     "output_type": "stream",
     "text": [
      "Total Load Testing MSE: 0.010\n",
      "Total Load Testing RMSE: 0.101\n",
      "Testing r2 score: 0.370\n"
     ]
    }
   ],
   "source": [
    "print(\"Total Load Testing MSE: %.3f\" % mean_squared_error(load_test, load_test_pred))\n",
    "print(\n",
    "    \"Total Load Testing RMSE: %.3f\"\n",
    "    % mean_squared_error(load_test, load_test_pred, squared=False)\n",
    ")\n",
    "print(\"Testing r2 score: %.3f\" % r2_score(load_test, load_test_pred))"
   ]
  },
  {
   "cell_type": "code",
   "execution_count": null,
   "id": "092025be",
   "metadata": {},
   "outputs": [],
   "source": []
  }
 ],
 "metadata": {
  "interpreter": {
   "hash": "8eba5b4ee3794b97021a6027c752b400ec20575a6f66fbc38e6cd9546f3af4e4"
  },
  "kernelspec": {
   "display_name": "Python 3",
   "language": "python",
   "name": "python3"
  },
  "language_info": {
   "codemirror_mode": {
    "name": "ipython",
    "version": 3
   },
   "file_extension": ".py",
   "mimetype": "text/x-python",
   "name": "python",
   "nbconvert_exporter": "python",
   "pygments_lexer": "ipython3",
   "version": "3.8.13"
  }
 },
 "nbformat": 4,
 "nbformat_minor": 5
}
