{
 "cells": [
  {
   "cell_type": "code",
   "execution_count": 10,
   "metadata": {},
   "outputs": [],
   "source": [
    "import pandas as pd\n",
    "import numpy as np\n",
    "import matplotlib.pyplot as plt\n",
    "import seaborn as sns\n",
    "import xgboost\n",
    "import shap\n",
    "from sklearn.feature_selection import mutual_info_regression\n",
    "from sklearn.model_selection import train_test_split, cross_val_score\n",
    "from sklearn.metrics import r2_score, mean_squared_error"
   ]
  },
  {
   "cell_type": "code",
   "execution_count": 2,
   "metadata": {},
   "outputs": [],
   "source": [
    "total = pd.read_csv(\"final_baseline_data.csv\")"
   ]
  },
  {
   "cell_type": "code",
   "execution_count": 3,
   "metadata": {},
   "outputs": [],
   "source": [
    "features = ['temp', 'pressure', 'humidity', 'wind_speed', 'wind_deg', 'rain_1h',\n",
    "       'rain_3h', 'snow_3h', 'clouds_all', 'weather_main_clear',\n",
    "       'weather_main_clouds', 'weather_main_drizzle', 'weather_main_fog',\n",
    "       'weather_main_mist', 'weather_main_rain', 'time_of_day_day',\n",
    "       'time_of_day_morning', 'time_of_day_night', 'season_fall',\n",
    "       'season_spring', 'season_summer', 'season_winter', 'generation biomass',\n",
    "       'generation fossil brown coal/lignite', 'generation fossil gas',\n",
    "       'generation fossil hard coal', 'generation fossil oil',\n",
    "       'generation hydro pumped storage consumption',\n",
    "       'generation hydro run-of-river and poundage',\n",
    "       'generation hydro water reservoir', 'generation nuclear',\n",
    "       'generation other', 'generation other renewable', 'generation solar',\n",
    "       'generation waste', 'generation wind onshore', 'total load actual',\n",
    "       'price actual']"
   ]
  },
  {
   "cell_type": "code",
   "execution_count": 6,
   "metadata": {},
   "outputs": [],
   "source": [
    "subset = total[features]\n",
    "training, testing = train_test_split(subset, test_size=0.30)\n",
    "X_train, y_train = training.to_numpy()[:, :-1], training.to_numpy()[:, -1]\n",
    "X_test, y_test = testing.to_numpy()[:, :-1], testing.to_numpy()[:, -1]"
   ]
  },
  {
   "cell_type": "code",
   "execution_count": 7,
   "metadata": {},
   "outputs": [
    {
     "data": {
      "text/plain": [
       "XGBRegressor(base_score=0.5, booster='gbtree', colsample_bylevel=1,\n",
       "             colsample_bynode=1, colsample_bytree=1, enable_categorical=False,\n",
       "             gamma=0, gpu_id=-1, importance_type=None,\n",
       "             interaction_constraints='', learning_rate=0.06, max_delta_step=0,\n",
       "             max_depth=8, min_child_weight=1, missing=nan,\n",
       "             monotone_constraints='()', n_estimators=800, n_jobs=8,\n",
       "             num_parallel_tree=1, predictor='auto', random_state=42,\n",
       "             reg_alpha=0, reg_lambda=1, scale_pos_weight=1, subsample=1,\n",
       "             tree_method='exact', validate_parameters=1, verbosity=None)"
      ]
     },
     "execution_count": 7,
     "metadata": {},
     "output_type": "execute_result"
    }
   ],
   "source": [
    "model_xgb = xgboost.XGBRegressor(random_state=42, max_depth=8, n_estimators=800, learning_rate=0.06)\n",
    "model_xgb.fit(X_train, y_train)"
   ]
  },
  {
   "cell_type": "code",
   "execution_count": 11,
   "metadata": {},
   "outputs": [
    {
     "name": "stdout",
     "output_type": "stream",
     "text": [
      "1.706993478843713\n"
     ]
    },
    {
     "data": {
      "text/plain": [
       "0.9914906961629674"
      ]
     },
     "execution_count": 11,
     "metadata": {},
     "output_type": "execute_result"
    }
   ],
   "source": [
    "y_train_pred = model_xgb.predict(X_train)\n",
    "print(mean_squared_error(y_train, y_train_pred))\n",
    "r2_score(y_train, y_train_pred)"
   ]
  },
  {
   "cell_type": "code",
   "execution_count": 12,
   "metadata": {},
   "outputs": [
    {
     "name": "stdout",
     "output_type": "stream",
     "text": [
      "17.568081209194666\n"
     ]
    },
    {
     "data": {
      "text/plain": [
       "0.9134986726984762"
      ]
     },
     "execution_count": 12,
     "metadata": {},
     "output_type": "execute_result"
    }
   ],
   "source": [
    "y_test_pred = model_xgb.predict(X_test)\n",
    "print(mean_squared_error(y_test, y_test_pred))\n",
    "r2_score(y_test, y_test_pred)"
   ]
  },
  {
   "cell_type": "code",
   "execution_count": 13,
   "metadata": {},
   "outputs": [
    {
     "data": {
      "text/plain": [
       "array([0.90600563, 0.90774365, 0.90475972, 0.90113558, 0.9032996 ])"
      ]
     },
     "execution_count": 13,
     "metadata": {},
     "output_type": "execute_result"
    }
   ],
   "source": [
    "cross_val_score(model_xgb, X_train, y_train)"
   ]
  },
  {
   "cell_type": "code",
   "execution_count": null,
   "metadata": {},
   "outputs": [],
   "source": [
    "cross_val_score(model_xgb, X_test, y_test)"
   ]
  },
  {
   "cell_type": "markdown",
   "metadata": {},
   "source": [
    "### Save model"
   ]
  },
  {
   "cell_type": "code",
   "execution_count": null,
   "metadata": {},
   "outputs": [],
   "source": [
    "import pickle\n",
    "file_name = \"XGBOOST_predict_price.pkl\"\n",
    "pickle.dump(model_xgb, open(file_name, \"wb\"))"
   ]
  }
 ],
 "metadata": {
  "kernelspec": {
   "display_name": "Python 3 (ipykernel)",
   "language": "python",
   "name": "python3"
  },
  "language_info": {
   "codemirror_mode": {
    "name": "ipython",
    "version": 3
   },
   "file_extension": ".py",
   "mimetype": "text/x-python",
   "name": "python",
   "nbconvert_exporter": "python",
   "pygments_lexer": "ipython3",
   "version": "3.8.2"
  }
 },
 "nbformat": 4,
 "nbformat_minor": 4
}
