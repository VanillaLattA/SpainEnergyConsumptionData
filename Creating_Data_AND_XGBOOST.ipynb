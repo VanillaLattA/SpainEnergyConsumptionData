{
 "cells": [
  {
   "cell_type": "markdown",
   "metadata": {},
   "source": [
    "### Imports"
   ]
  },
  {
   "cell_type": "code",
   "execution_count": 1,
   "metadata": {
    "scrolled": true
   },
   "outputs": [
    {
     "name": "stderr",
     "output_type": "stream",
     "text": [
      "/Users/jacquelinemitchell/opt/anaconda3/envs/ECS171/lib/python3.8/site-packages/xgboost/compat.py:36: FutureWarning: pandas.Int64Index is deprecated and will be removed from pandas in a future version. Use pandas.Index with the appropriate dtype instead.\n",
      "  from pandas import MultiIndex, Int64Index\n",
      "/Users/jacquelinemitchell/opt/anaconda3/envs/ECS171/lib/python3.8/site-packages/tqdm/auto.py:22: TqdmWarning: IProgress not found. Please update jupyter and ipywidgets. See https://ipywidgets.readthedocs.io/en/stable/user_install.html\n",
      "  from .autonotebook import tqdm as notebook_tqdm\n"
     ]
    }
   ],
   "source": [
    "import pandas as pd\n",
    "import numpy as np\n",
    "import matplotlib.pyplot as plt\n",
    "import seaborn as sns\n",
    "import xgboost\n",
    "import shap\n",
    "from sklearn.feature_selection import mutual_info_regression\n",
    "pd.set_option('display.max_columns', 500)"
   ]
  },
  {
   "cell_type": "markdown",
   "metadata": {},
   "source": [
    "### Load Data"
   ]
  },
  {
   "cell_type": "code",
   "execution_count": 2,
   "metadata": {},
   "outputs": [],
   "source": [
    "energy = pd.read_csv('../../data/energy_dataset.csv')\n",
    "weather = pd.read_csv('../../data/weather_features.csv')\n",
    "weather = weather.drop(columns=['weather_id', 'weather_icon']) # remove these columns; they're not informative"
   ]
  },
  {
   "cell_type": "markdown",
   "metadata": {},
   "source": [
    "### Avg Data Using Josh's Methodology"
   ]
  },
  {
   "cell_type": "code",
   "execution_count": 3,
   "metadata": {},
   "outputs": [],
   "source": [
    "weather_main_dummies = pd.get_dummies(weather.weather_main)\n",
    "weather = weather.drop(columns=['weather_main', 'weather_description']).join(weather_main_dummies)"
   ]
  },
  {
   "cell_type": "code",
   "execution_count": 4,
   "metadata": {},
   "outputs": [
    {
     "name": "stdout",
     "output_type": "stream",
     "text": [
      "(35064, 53)\n",
      "(35064, 53)\n",
      "(35064, 53)\n",
      "(35064, 53)\n",
      "(35064, 53)\n"
     ]
    }
   ],
   "source": [
    "total = pd.DataFrame()\n",
    "\n",
    "for name in weather.city_name.unique():\n",
    "    cityData = weather.loc[weather.city_name == name]\n",
    "    dfn = pd.merge(energy, cityData, left_on='time', right_on='dt_iso')\n",
    "    dfn=dfn.drop_duplicates(\"time\")\n",
    "    dfn = dfn.set_index(\"time\")\n",
    "    if(not(total.empty)):\n",
    "        total+=dfn\n",
    "    else:\n",
    "        total=dfn\n",
    "    print(total.shape)"
   ]
  },
  {
   "cell_type": "code",
   "execution_count": 5,
   "metadata": {},
   "outputs": [],
   "source": [
    "# use idxmax to get the most popular value due to the average (can't really avg categorical value in traditional sense)\n",
    "total['weather_main'] = total[['clear', 'clouds', 'drizzle', 'dust', 'fog', 'haze',\n",
    "       'mist', 'rain', 'smoke', 'snow', 'squall', 'thunderstorm']].idxmax(axis=1)\n",
    "total = total.drop(columns=['clear', 'clouds', 'drizzle', 'dust', 'fog', 'haze',\n",
    "       'mist', 'rain', 'smoke', 'snow', 'squall', 'thunderstorm'])\n",
    "\n",
    "# take average\n",
    "def take_avg(col):\n",
    "    if col.dtype != object:\n",
    "        col /= 5\n",
    "    return col\n",
    "\n",
    "total = total.apply(take_avg)"
   ]
  },
  {
   "cell_type": "code",
   "execution_count": 6,
   "metadata": {},
   "outputs": [],
   "source": [
    "# don't need these\n",
    "total = total.drop(columns=['dt_iso', 'city_name'])"
   ]
  },
  {
   "cell_type": "code",
   "execution_count": 7,
   "metadata": {},
   "outputs": [],
   "source": [
    "# these are null for every datapoint\n",
    "total = total.drop(columns=['generation hydro pumped storage aggregated', 'forecast wind offshore eday ahead'])"
   ]
  },
  {
   "cell_type": "code",
   "execution_count": 8,
   "metadata": {},
   "outputs": [],
   "source": [
    "def parse_hour(item):\n",
    "    hour = int(item[11:13])\n",
    "    if hour >= 6 and hour < 12:\n",
    "        return 'morning'\n",
    "    elif hour >= 12 and hour <=17:\n",
    "        return 'day'\n",
    "    return 'night'\n",
    "def parse_month(item):\n",
    "    month = int(item[5:7])\n",
    "    if month in [12, 1, 2]:\n",
    "        return 'winter'\n",
    "    elif month in [3, 4, 5]:\n",
    "        return 'spring'\n",
    "    elif month in [6, 7, 8]:\n",
    "        return 'summer'\n",
    "    else:\n",
    "        return 'fall'"
   ]
  },
  {
   "cell_type": "code",
   "execution_count": 9,
   "metadata": {},
   "outputs": [],
   "source": [
    "# OHE the weather main column\n",
    "total = pd.get_dummies(total)"
   ]
  },
  {
   "cell_type": "code",
   "execution_count": 10,
   "metadata": {},
   "outputs": [],
   "source": [
    "# remove 36 entries that have any null values for total load (we don't lose much (?))\n",
    "total = total.dropna()"
   ]
  },
  {
   "cell_type": "code",
   "execution_count": 11,
   "metadata": {},
   "outputs": [],
   "source": [
    "# Feature engineer the time of day and season features\n",
    "total = total.reset_index()\n",
    "total['time_of_day'] = total.time.apply(parse_hour)\n",
    "total['season'] = total.time.apply(parse_month)"
   ]
  },
  {
   "cell_type": "code",
   "execution_count": 12,
   "metadata": {},
   "outputs": [],
   "source": [
    "# push time back into the index for ease of OHE\n",
    "total = total.set_index('time')"
   ]
  },
  {
   "cell_type": "code",
   "execution_count": 13,
   "metadata": {},
   "outputs": [],
   "source": [
    "total = pd.get_dummies(total)"
   ]
  },
  {
   "cell_type": "code",
   "execution_count": 14,
   "metadata": {},
   "outputs": [
    {
     "data": {
      "text/html": [
       "<div>\n",
       "<style scoped>\n",
       "    .dataframe tbody tr th:only-of-type {\n",
       "        vertical-align: middle;\n",
       "    }\n",
       "\n",
       "    .dataframe tbody tr th {\n",
       "        vertical-align: top;\n",
       "    }\n",
       "\n",
       "    .dataframe thead th {\n",
       "        text-align: right;\n",
       "    }\n",
       "</style>\n",
       "<table border=\"1\" class=\"dataframe\">\n",
       "  <thead>\n",
       "    <tr style=\"text-align: right;\">\n",
       "      <th></th>\n",
       "      <th>generation biomass</th>\n",
       "      <th>generation fossil brown coal/lignite</th>\n",
       "      <th>generation fossil coal-derived gas</th>\n",
       "      <th>generation fossil gas</th>\n",
       "      <th>generation fossil hard coal</th>\n",
       "      <th>generation fossil oil</th>\n",
       "      <th>generation fossil oil shale</th>\n",
       "      <th>generation fossil peat</th>\n",
       "      <th>generation geothermal</th>\n",
       "      <th>generation hydro pumped storage consumption</th>\n",
       "      <th>generation hydro run-of-river and poundage</th>\n",
       "      <th>generation hydro water reservoir</th>\n",
       "      <th>generation marine</th>\n",
       "      <th>generation nuclear</th>\n",
       "      <th>generation other</th>\n",
       "      <th>generation other renewable</th>\n",
       "      <th>generation solar</th>\n",
       "      <th>generation waste</th>\n",
       "      <th>generation wind offshore</th>\n",
       "      <th>generation wind onshore</th>\n",
       "      <th>forecast solar day ahead</th>\n",
       "      <th>forecast wind onshore day ahead</th>\n",
       "      <th>total load forecast</th>\n",
       "      <th>total load actual</th>\n",
       "      <th>price day ahead</th>\n",
       "      <th>price actual</th>\n",
       "      <th>temp</th>\n",
       "      <th>temp_min</th>\n",
       "      <th>temp_max</th>\n",
       "      <th>pressure</th>\n",
       "      <th>humidity</th>\n",
       "      <th>wind_speed</th>\n",
       "      <th>wind_deg</th>\n",
       "      <th>rain_1h</th>\n",
       "      <th>rain_3h</th>\n",
       "      <th>snow_3h</th>\n",
       "      <th>clouds_all</th>\n",
       "      <th>weather_main_clear</th>\n",
       "      <th>weather_main_clouds</th>\n",
       "      <th>weather_main_drizzle</th>\n",
       "      <th>weather_main_fog</th>\n",
       "      <th>weather_main_mist</th>\n",
       "      <th>weather_main_rain</th>\n",
       "      <th>weather_main_thunderstorm</th>\n",
       "      <th>time_of_day_day</th>\n",
       "      <th>time_of_day_morning</th>\n",
       "      <th>time_of_day_night</th>\n",
       "      <th>season_fall</th>\n",
       "      <th>season_spring</th>\n",
       "      <th>season_summer</th>\n",
       "      <th>season_winter</th>\n",
       "    </tr>\n",
       "    <tr>\n",
       "      <th>time</th>\n",
       "      <th></th>\n",
       "      <th></th>\n",
       "      <th></th>\n",
       "      <th></th>\n",
       "      <th></th>\n",
       "      <th></th>\n",
       "      <th></th>\n",
       "      <th></th>\n",
       "      <th></th>\n",
       "      <th></th>\n",
       "      <th></th>\n",
       "      <th></th>\n",
       "      <th></th>\n",
       "      <th></th>\n",
       "      <th></th>\n",
       "      <th></th>\n",
       "      <th></th>\n",
       "      <th></th>\n",
       "      <th></th>\n",
       "      <th></th>\n",
       "      <th></th>\n",
       "      <th></th>\n",
       "      <th></th>\n",
       "      <th></th>\n",
       "      <th></th>\n",
       "      <th></th>\n",
       "      <th></th>\n",
       "      <th></th>\n",
       "      <th></th>\n",
       "      <th></th>\n",
       "      <th></th>\n",
       "      <th></th>\n",
       "      <th></th>\n",
       "      <th></th>\n",
       "      <th></th>\n",
       "      <th></th>\n",
       "      <th></th>\n",
       "      <th></th>\n",
       "      <th></th>\n",
       "      <th></th>\n",
       "      <th></th>\n",
       "      <th></th>\n",
       "      <th></th>\n",
       "      <th></th>\n",
       "      <th></th>\n",
       "      <th></th>\n",
       "      <th></th>\n",
       "      <th></th>\n",
       "      <th></th>\n",
       "      <th></th>\n",
       "      <th></th>\n",
       "    </tr>\n",
       "  </thead>\n",
       "  <tbody>\n",
       "    <tr>\n",
       "      <th>2015-01-01 00:00:00+01:00</th>\n",
       "      <td>447.0</td>\n",
       "      <td>329.0</td>\n",
       "      <td>0.0</td>\n",
       "      <td>4844.0</td>\n",
       "      <td>4821.0</td>\n",
       "      <td>162.0</td>\n",
       "      <td>0.0</td>\n",
       "      <td>0.0</td>\n",
       "      <td>0.0</td>\n",
       "      <td>863.0</td>\n",
       "      <td>1051.0</td>\n",
       "      <td>1899.0</td>\n",
       "      <td>0.0</td>\n",
       "      <td>7096.0</td>\n",
       "      <td>43.0</td>\n",
       "      <td>73.0</td>\n",
       "      <td>49.0</td>\n",
       "      <td>196.0</td>\n",
       "      <td>0.0</td>\n",
       "      <td>6378.0</td>\n",
       "      <td>17.0</td>\n",
       "      <td>6436.0</td>\n",
       "      <td>26118.0</td>\n",
       "      <td>25385.0</td>\n",
       "      <td>50.10</td>\n",
       "      <td>65.41</td>\n",
       "      <td>272.491463</td>\n",
       "      <td>272.491463</td>\n",
       "      <td>272.491463</td>\n",
       "      <td>1016.4</td>\n",
       "      <td>82.4</td>\n",
       "      <td>2.0</td>\n",
       "      <td>135.2</td>\n",
       "      <td>0.0</td>\n",
       "      <td>0.0</td>\n",
       "      <td>0.0</td>\n",
       "      <td>0.0</td>\n",
       "      <td>1</td>\n",
       "      <td>0</td>\n",
       "      <td>0</td>\n",
       "      <td>0</td>\n",
       "      <td>0</td>\n",
       "      <td>0</td>\n",
       "      <td>0</td>\n",
       "      <td>0</td>\n",
       "      <td>0</td>\n",
       "      <td>1</td>\n",
       "      <td>0</td>\n",
       "      <td>0</td>\n",
       "      <td>0</td>\n",
       "      <td>1</td>\n",
       "    </tr>\n",
       "    <tr>\n",
       "      <th>2015-01-01 01:00:00+01:00</th>\n",
       "      <td>449.0</td>\n",
       "      <td>328.0</td>\n",
       "      <td>0.0</td>\n",
       "      <td>5196.0</td>\n",
       "      <td>4755.0</td>\n",
       "      <td>158.0</td>\n",
       "      <td>0.0</td>\n",
       "      <td>0.0</td>\n",
       "      <td>0.0</td>\n",
       "      <td>920.0</td>\n",
       "      <td>1009.0</td>\n",
       "      <td>1658.0</td>\n",
       "      <td>0.0</td>\n",
       "      <td>7096.0</td>\n",
       "      <td>43.0</td>\n",
       "      <td>71.0</td>\n",
       "      <td>50.0</td>\n",
       "      <td>195.0</td>\n",
       "      <td>0.0</td>\n",
       "      <td>5890.0</td>\n",
       "      <td>16.0</td>\n",
       "      <td>5856.0</td>\n",
       "      <td>24934.0</td>\n",
       "      <td>24382.0</td>\n",
       "      <td>48.10</td>\n",
       "      <td>64.92</td>\n",
       "      <td>272.512700</td>\n",
       "      <td>272.512700</td>\n",
       "      <td>272.512700</td>\n",
       "      <td>1016.2</td>\n",
       "      <td>82.4</td>\n",
       "      <td>2.0</td>\n",
       "      <td>135.8</td>\n",
       "      <td>0.0</td>\n",
       "      <td>0.0</td>\n",
       "      <td>0.0</td>\n",
       "      <td>0.0</td>\n",
       "      <td>1</td>\n",
       "      <td>0</td>\n",
       "      <td>0</td>\n",
       "      <td>0</td>\n",
       "      <td>0</td>\n",
       "      <td>0</td>\n",
       "      <td>0</td>\n",
       "      <td>0</td>\n",
       "      <td>0</td>\n",
       "      <td>1</td>\n",
       "      <td>0</td>\n",
       "      <td>0</td>\n",
       "      <td>0</td>\n",
       "      <td>1</td>\n",
       "    </tr>\n",
       "    <tr>\n",
       "      <th>2015-01-01 02:00:00+01:00</th>\n",
       "      <td>448.0</td>\n",
       "      <td>323.0</td>\n",
       "      <td>0.0</td>\n",
       "      <td>4857.0</td>\n",
       "      <td>4581.0</td>\n",
       "      <td>157.0</td>\n",
       "      <td>0.0</td>\n",
       "      <td>0.0</td>\n",
       "      <td>0.0</td>\n",
       "      <td>1164.0</td>\n",
       "      <td>973.0</td>\n",
       "      <td>1371.0</td>\n",
       "      <td>0.0</td>\n",
       "      <td>7099.0</td>\n",
       "      <td>43.0</td>\n",
       "      <td>73.0</td>\n",
       "      <td>50.0</td>\n",
       "      <td>196.0</td>\n",
       "      <td>0.0</td>\n",
       "      <td>5461.0</td>\n",
       "      <td>8.0</td>\n",
       "      <td>5454.0</td>\n",
       "      <td>23515.0</td>\n",
       "      <td>22734.0</td>\n",
       "      <td>47.33</td>\n",
       "      <td>64.48</td>\n",
       "      <td>272.099137</td>\n",
       "      <td>272.099137</td>\n",
       "      <td>272.099137</td>\n",
       "      <td>1016.8</td>\n",
       "      <td>82.0</td>\n",
       "      <td>2.4</td>\n",
       "      <td>119.0</td>\n",
       "      <td>0.0</td>\n",
       "      <td>0.0</td>\n",
       "      <td>0.0</td>\n",
       "      <td>0.0</td>\n",
       "      <td>1</td>\n",
       "      <td>0</td>\n",
       "      <td>0</td>\n",
       "      <td>0</td>\n",
       "      <td>0</td>\n",
       "      <td>0</td>\n",
       "      <td>0</td>\n",
       "      <td>0</td>\n",
       "      <td>0</td>\n",
       "      <td>1</td>\n",
       "      <td>0</td>\n",
       "      <td>0</td>\n",
       "      <td>0</td>\n",
       "      <td>1</td>\n",
       "    </tr>\n",
       "  </tbody>\n",
       "</table>\n",
       "</div>"
      ],
      "text/plain": [
       "                           generation biomass  \\\n",
       "time                                            \n",
       "2015-01-01 00:00:00+01:00               447.0   \n",
       "2015-01-01 01:00:00+01:00               449.0   \n",
       "2015-01-01 02:00:00+01:00               448.0   \n",
       "\n",
       "                           generation fossil brown coal/lignite  \\\n",
       "time                                                              \n",
       "2015-01-01 00:00:00+01:00                                 329.0   \n",
       "2015-01-01 01:00:00+01:00                                 328.0   \n",
       "2015-01-01 02:00:00+01:00                                 323.0   \n",
       "\n",
       "                           generation fossil coal-derived gas  \\\n",
       "time                                                            \n",
       "2015-01-01 00:00:00+01:00                                 0.0   \n",
       "2015-01-01 01:00:00+01:00                                 0.0   \n",
       "2015-01-01 02:00:00+01:00                                 0.0   \n",
       "\n",
       "                           generation fossil gas  generation fossil hard coal  \\\n",
       "time                                                                            \n",
       "2015-01-01 00:00:00+01:00                 4844.0                       4821.0   \n",
       "2015-01-01 01:00:00+01:00                 5196.0                       4755.0   \n",
       "2015-01-01 02:00:00+01:00                 4857.0                       4581.0   \n",
       "\n",
       "                           generation fossil oil  generation fossil oil shale  \\\n",
       "time                                                                            \n",
       "2015-01-01 00:00:00+01:00                  162.0                          0.0   \n",
       "2015-01-01 01:00:00+01:00                  158.0                          0.0   \n",
       "2015-01-01 02:00:00+01:00                  157.0                          0.0   \n",
       "\n",
       "                           generation fossil peat  generation geothermal  \\\n",
       "time                                                                       \n",
       "2015-01-01 00:00:00+01:00                     0.0                    0.0   \n",
       "2015-01-01 01:00:00+01:00                     0.0                    0.0   \n",
       "2015-01-01 02:00:00+01:00                     0.0                    0.0   \n",
       "\n",
       "                           generation hydro pumped storage consumption  \\\n",
       "time                                                                     \n",
       "2015-01-01 00:00:00+01:00                                        863.0   \n",
       "2015-01-01 01:00:00+01:00                                        920.0   \n",
       "2015-01-01 02:00:00+01:00                                       1164.0   \n",
       "\n",
       "                           generation hydro run-of-river and poundage  \\\n",
       "time                                                                    \n",
       "2015-01-01 00:00:00+01:00                                      1051.0   \n",
       "2015-01-01 01:00:00+01:00                                      1009.0   \n",
       "2015-01-01 02:00:00+01:00                                       973.0   \n",
       "\n",
       "                           generation hydro water reservoir  \\\n",
       "time                                                          \n",
       "2015-01-01 00:00:00+01:00                            1899.0   \n",
       "2015-01-01 01:00:00+01:00                            1658.0   \n",
       "2015-01-01 02:00:00+01:00                            1371.0   \n",
       "\n",
       "                           generation marine  generation nuclear  \\\n",
       "time                                                               \n",
       "2015-01-01 00:00:00+01:00                0.0              7096.0   \n",
       "2015-01-01 01:00:00+01:00                0.0              7096.0   \n",
       "2015-01-01 02:00:00+01:00                0.0              7099.0   \n",
       "\n",
       "                           generation other  generation other renewable  \\\n",
       "time                                                                      \n",
       "2015-01-01 00:00:00+01:00              43.0                        73.0   \n",
       "2015-01-01 01:00:00+01:00              43.0                        71.0   \n",
       "2015-01-01 02:00:00+01:00              43.0                        73.0   \n",
       "\n",
       "                           generation solar  generation waste  \\\n",
       "time                                                            \n",
       "2015-01-01 00:00:00+01:00              49.0             196.0   \n",
       "2015-01-01 01:00:00+01:00              50.0             195.0   \n",
       "2015-01-01 02:00:00+01:00              50.0             196.0   \n",
       "\n",
       "                           generation wind offshore  generation wind onshore  \\\n",
       "time                                                                           \n",
       "2015-01-01 00:00:00+01:00                       0.0                   6378.0   \n",
       "2015-01-01 01:00:00+01:00                       0.0                   5890.0   \n",
       "2015-01-01 02:00:00+01:00                       0.0                   5461.0   \n",
       "\n",
       "                           forecast solar day ahead  \\\n",
       "time                                                  \n",
       "2015-01-01 00:00:00+01:00                      17.0   \n",
       "2015-01-01 01:00:00+01:00                      16.0   \n",
       "2015-01-01 02:00:00+01:00                       8.0   \n",
       "\n",
       "                           forecast wind onshore day ahead  \\\n",
       "time                                                         \n",
       "2015-01-01 00:00:00+01:00                           6436.0   \n",
       "2015-01-01 01:00:00+01:00                           5856.0   \n",
       "2015-01-01 02:00:00+01:00                           5454.0   \n",
       "\n",
       "                           total load forecast  total load actual  \\\n",
       "time                                                                \n",
       "2015-01-01 00:00:00+01:00              26118.0            25385.0   \n",
       "2015-01-01 01:00:00+01:00              24934.0            24382.0   \n",
       "2015-01-01 02:00:00+01:00              23515.0            22734.0   \n",
       "\n",
       "                           price day ahead  price actual        temp  \\\n",
       "time                                                                   \n",
       "2015-01-01 00:00:00+01:00            50.10         65.41  272.491463   \n",
       "2015-01-01 01:00:00+01:00            48.10         64.92  272.512700   \n",
       "2015-01-01 02:00:00+01:00            47.33         64.48  272.099137   \n",
       "\n",
       "                             temp_min    temp_max  pressure  humidity  \\\n",
       "time                                                                    \n",
       "2015-01-01 00:00:00+01:00  272.491463  272.491463    1016.4      82.4   \n",
       "2015-01-01 01:00:00+01:00  272.512700  272.512700    1016.2      82.4   \n",
       "2015-01-01 02:00:00+01:00  272.099137  272.099137    1016.8      82.0   \n",
       "\n",
       "                           wind_speed  wind_deg  rain_1h  rain_3h  snow_3h  \\\n",
       "time                                                                         \n",
       "2015-01-01 00:00:00+01:00         2.0     135.2      0.0      0.0      0.0   \n",
       "2015-01-01 01:00:00+01:00         2.0     135.8      0.0      0.0      0.0   \n",
       "2015-01-01 02:00:00+01:00         2.4     119.0      0.0      0.0      0.0   \n",
       "\n",
       "                           clouds_all  weather_main_clear  \\\n",
       "time                                                        \n",
       "2015-01-01 00:00:00+01:00         0.0                   1   \n",
       "2015-01-01 01:00:00+01:00         0.0                   1   \n",
       "2015-01-01 02:00:00+01:00         0.0                   1   \n",
       "\n",
       "                           weather_main_clouds  weather_main_drizzle  \\\n",
       "time                                                                   \n",
       "2015-01-01 00:00:00+01:00                    0                     0   \n",
       "2015-01-01 01:00:00+01:00                    0                     0   \n",
       "2015-01-01 02:00:00+01:00                    0                     0   \n",
       "\n",
       "                           weather_main_fog  weather_main_mist  \\\n",
       "time                                                             \n",
       "2015-01-01 00:00:00+01:00                 0                  0   \n",
       "2015-01-01 01:00:00+01:00                 0                  0   \n",
       "2015-01-01 02:00:00+01:00                 0                  0   \n",
       "\n",
       "                           weather_main_rain  weather_main_thunderstorm  \\\n",
       "time                                                                      \n",
       "2015-01-01 00:00:00+01:00                  0                          0   \n",
       "2015-01-01 01:00:00+01:00                  0                          0   \n",
       "2015-01-01 02:00:00+01:00                  0                          0   \n",
       "\n",
       "                           time_of_day_day  time_of_day_morning  \\\n",
       "time                                                              \n",
       "2015-01-01 00:00:00+01:00                0                    0   \n",
       "2015-01-01 01:00:00+01:00                0                    0   \n",
       "2015-01-01 02:00:00+01:00                0                    0   \n",
       "\n",
       "                           time_of_day_night  season_fall  season_spring  \\\n",
       "time                                                                       \n",
       "2015-01-01 00:00:00+01:00                  1            0              0   \n",
       "2015-01-01 01:00:00+01:00                  1            0              0   \n",
       "2015-01-01 02:00:00+01:00                  1            0              0   \n",
       "\n",
       "                           season_summer  season_winter  \n",
       "time                                                     \n",
       "2015-01-01 00:00:00+01:00              0              1  \n",
       "2015-01-01 01:00:00+01:00              0              1  \n",
       "2015-01-01 02:00:00+01:00              0              1  "
      ]
     },
     "execution_count": 14,
     "metadata": {},
     "output_type": "execute_result"
    }
   ],
   "source": [
    "total.head(3)"
   ]
  },
  {
   "cell_type": "code",
   "execution_count": 16,
   "metadata": {},
   "outputs": [],
   "source": [
    "# NOTE: not all of the items I include are used for prediction of price\n",
    "total.to_csv(\"final_baseline_data.csv\")"
   ]
  },
  {
   "cell_type": "markdown",
   "metadata": {},
   "source": [
    "### Predict XGBoost!"
   ]
  },
  {
   "cell_type": "code",
   "execution_count": 17,
   "metadata": {},
   "outputs": [],
   "source": [
    "# select features for PREDICTING PRICE\n",
    "feat_cols = ['temp', 'pressure', 'humidity', 'wind_speed',\n",
    "       'wind_deg', 'rain_1h', 'rain_3h', 'snow_3h', 'clouds_all',\n",
    "       'weather_main_clear', 'weather_main_clouds', 'weather_main_drizzle',\n",
    "       'weather_main_fog', 'weather_main_mist', 'weather_main_rain',\n",
    "       'weather_main_thunderstorm', 'time_of_day_day', 'time_of_day_morning',\n",
    "       'time_of_day_night', 'season_fall', 'season_spring', 'season_summer',\n",
    "       'season_winter']\n",
    "\n",
    "feat_cols_more = feat_cols + ['generation biomass', 'generation fossil brown coal/lignite',\n",
    "       'generation fossil coal-derived gas', 'generation fossil gas',\n",
    "       'generation fossil hard coal', 'generation fossil oil',\n",
    "       'generation fossil oil shale', 'generation fossil peat',\n",
    "       'generation geothermal', 'generation hydro pumped storage consumption',\n",
    "       'generation hydro run-of-river and poundage',\n",
    "       'generation hydro water reservoir', 'generation marine',\n",
    "       'generation nuclear', 'generation other', 'generation other renewable',\n",
    "       'generation solar', 'generation waste', 'generation wind offshore',\n",
    "       'generation wind onshore', 'forecast solar day ahead',\n",
    "       'forecast wind onshore day ahead', 'total load actual']"
   ]
  },
  {
   "cell_type": "markdown",
   "metadata": {},
   "source": [
    "### Feature IMportance"
   ]
  },
  {
   "cell_type": "code",
   "execution_count": 18,
   "metadata": {},
   "outputs": [
    {
     "data": {
      "image/png": "[encoded data removed]",
      "text/plain": [
       "<Figure size 1080x1080 with 1 Axes>"
      ]
     },
     "metadata": {
      "needs_background": "light"
     },
     "output_type": "display_data"
    }
   ],
   "source": [
    "importances = mutual_info_regression(total[feat_cols_more], total['price actual'])\n",
    "feat_importances = pd.Series(importances, feat_cols_more)\n",
    "plt.figure(figsize=(15,15))\n",
    "feat_importances.plot(kind='barh', color='teal')\n",
    "plt.show()"
   ]
  },
  {
   "cell_type": "markdown",
   "metadata": {},
   "source": [
    "### Prep Data for Model"
   ]
  },
  {
   "cell_type": "code",
   "execution_count": 19,
   "metadata": {},
   "outputs": [],
   "source": [
    "import xgboost\n",
    "from sklearn.model_selection import train_test_split\n",
    "\n",
    "#note: xgboost doesn't require scaling: https://medium.com/codex/feature-scaling-in-machine-learning-e86b360d1c31#:~:text=There%20are%20some%20algorithms%20like,data%20into%20training%20and%20testing.\n",
    "from sklearn.preprocessing import MinMaxScaler"
   ]
  },
  {
   "cell_type": "code",
   "execution_count": 20,
   "metadata": {},
   "outputs": [],
   "source": [
    "subset = total[feat_cols_more + ['price actual']]"
   ]
  },
  {
   "cell_type": "code",
   "execution_count": 21,
   "metadata": {},
   "outputs": [],
   "source": [
    "training, testing = train_test_split(subset, test_size=0.30)"
   ]
  },
  {
   "cell_type": "code",
   "execution_count": 22,
   "metadata": {},
   "outputs": [],
   "source": [
    "X_train, y_train = training.to_numpy()[:, :-1], training.to_numpy()[:, -1]\n",
    "X_test, y_test = testing.to_numpy()[:, :-1], testing.to_numpy()[:, -1]"
   ]
  },
  {
   "cell_type": "code",
   "execution_count": 23,
   "metadata": {},
   "outputs": [
    {
     "data": {
      "text/plain": [
       "XGBRegressor(base_score=0.5, booster='gbtree', colsample_bylevel=1,\n",
       "             colsample_bynode=1, colsample_bytree=1, enable_categorical=False,\n",
       "             gamma=0, gpu_id=-1, importance_type=None,\n",
       "             interaction_constraints='', learning_rate=0.1, max_delta_step=0,\n",
       "             max_depth=10, min_child_weight=1, missing=nan,\n",
       "             monotone_constraints='()', n_estimators=100, n_jobs=8,\n",
       "             num_parallel_tree=1, predictor='auto', random_state=42,\n",
       "             reg_alpha=0, reg_lambda=1, scale_pos_weight=1, subsample=1,\n",
       "             tree_method='exact', validate_parameters=1, verbosity=None)"
      ]
     },
     "execution_count": 23,
     "metadata": {},
     "output_type": "execute_result"
    }
   ],
   "source": [
    "model_xgb = xgboost.XGBRegressor(random_state=42, max_depth=10, learning_rate=0.1)\n",
    "model_xgb.fit(X_train, y_train)"
   ]
  },
  {
   "cell_type": "code",
   "execution_count": 24,
   "metadata": {},
   "outputs": [
    {
     "data": {
      "text/plain": [
       "array([0.00475211, 0.00761038, 0.00348825, 0.0237761 , 0.0036422 ,\n",
       "       0.00639228, 0.0071598 , 0.01579092, 0.00606645, 0.00339019,\n",
       "       0.00275536, 0.        , 0.00200921, 0.00218283, 0.00897108,\n",
       "       0.        , 0.00541734, 0.00471024, 0.01930979, 0.04230797,\n",
       "       0.2768407 , 0.08632282, 0.01637328, 0.01056729, 0.008987  ,\n",
       "       0.        , 0.13130184, 0.04289476, 0.0123605 , 0.        ,\n",
       "       0.        , 0.        , 0.03614119, 0.01939948, 0.02509458,\n",
       "       0.        , 0.01875363, 0.01947951, 0.03530468, 0.00781595,\n",
       "       0.01971352, 0.        , 0.00695753, 0.01274884, 0.0097881 ,\n",
       "       0.03342229], dtype=float32)"
      ]
     },
     "execution_count": 24,
     "metadata": {},
     "output_type": "execute_result"
    }
   ],
   "source": [
    "model_xgb.feature_importances_"
   ]
  },
  {
   "cell_type": "code",
   "execution_count": 25,
   "metadata": {},
   "outputs": [],
   "source": [
    "from sklearn.model_selection import cross_val_score\n",
    "from sklearn.metrics import mean_squared_error, r2_score"
   ]
  },
  {
   "cell_type": "code",
   "execution_count": 26,
   "metadata": {},
   "outputs": [],
   "source": [
    "y_train_pred = model_xgb.predict(X_train)"
   ]
  },
  {
   "cell_type": "code",
   "execution_count": 27,
   "metadata": {},
   "outputs": [
    {
     "data": {
      "text/plain": [
       "3.2384372955322838"
      ]
     },
     "execution_count": 27,
     "metadata": {},
     "output_type": "execute_result"
    }
   ],
   "source": [
    "mean_squared_error(y_train, y_train_pred)"
   ]
  },
  {
   "cell_type": "code",
   "execution_count": 28,
   "metadata": {},
   "outputs": [
    {
     "data": {
      "text/plain": [
       "array([0.88779752, 0.88891201, 0.88563537, 0.8821852 , 0.8899628 ])"
      ]
     },
     "execution_count": 28,
     "metadata": {},
     "output_type": "execute_result"
    }
   ],
   "source": [
    "cross_val_score(model_xgb, X_train, y_train)"
   ]
  },
  {
   "cell_type": "code",
   "execution_count": 29,
   "metadata": {},
   "outputs": [
    {
     "data": {
      "text/plain": [
       "0.9839360141547923"
      ]
     },
     "execution_count": 29,
     "metadata": {},
     "output_type": "execute_result"
    }
   ],
   "source": [
    "r2_score(y_train, y_train_pred)"
   ]
  },
  {
   "cell_type": "code",
   "execution_count": 30,
   "metadata": {},
   "outputs": [],
   "source": [
    "y_test_pred = model_xgb.predict(X_test)"
   ]
  },
  {
   "cell_type": "code",
   "execution_count": 31,
   "metadata": {},
   "outputs": [
    {
     "data": {
      "text/plain": [
       "19.209619958227687"
      ]
     },
     "execution_count": 31,
     "metadata": {},
     "output_type": "execute_result"
    }
   ],
   "source": [
    "mean_squared_error(y_test, y_test_pred)"
   ]
  },
  {
   "cell_type": "code",
   "execution_count": 32,
   "metadata": {},
   "outputs": [
    {
     "data": {
      "text/plain": [
       "array([0.83599392, 0.82555852, 0.83466571, 0.83050572, 0.82145683])"
      ]
     },
     "execution_count": 32,
     "metadata": {},
     "output_type": "execute_result"
    }
   ],
   "source": [
    "cross_val_score(model_xgb, X_test, y_test)"
   ]
  },
  {
   "cell_type": "code",
   "execution_count": 33,
   "metadata": {},
   "outputs": [
    {
     "data": {
      "text/plain": [
       "0.9043359456211537"
      ]
     },
     "execution_count": 33,
     "metadata": {},
     "output_type": "execute_result"
    }
   ],
   "source": [
    "r2_score(y_test, y_test_pred)"
   ]
  },
  {
   "cell_type": "code",
   "execution_count": null,
   "metadata": {},
   "outputs": [],
   "source": [
    "explainer = shap.TreeExplainer(model_xgb, data=X_test)"
   ]
  },
  {
   "cell_type": "code",
   "execution_count": null,
   "metadata": {},
   "outputs": [],
   "source": [
    "shap_values = explainer.shap_values(X_test)"
   ]
  },
  {
   "cell_type": "code",
   "execution_count": null,
   "metadata": {},
   "outputs": [],
   "source": [
    "for i in np.arange(0, 1, 0.1):\n",
    "    print(X_frame_pd['generation fossil gas'].quantile(i))"
   ]
  },
  {
   "cell_type": "code",
   "execution_count": null,
   "metadata": {},
   "outputs": [],
   "source": [
    "X_frame_pd[(X_frame_pd['season_summer'] == 1) &( X_frame_pd['time_of_day_day'] == 1)]"
   ]
  },
  {
   "cell_type": "code",
   "execution_count": null,
   "metadata": {},
   "outputs": [],
   "source": [
    "X_frame_pd = pd.DataFrame(X_test, columns=feat_cols_more)\n",
    "shap_values_one = explainer.shap_values(X_frame_pd.iloc[58])\n",
    "# shap.initjs()\n",
    "plt.figure(figsize=(10, 20))\n",
    "fig = shap.force_plot(explainer.expected_value, shap_values_one, X_frame_pd.iloc[58], show=False, matplotlib=True)\n",
    "plt.savefig(\"shap_bar_example.png\")"
   ]
  },
  {
   "cell_type": "code",
   "execution_count": null,
   "metadata": {},
   "outputs": [],
   "source": [
    "shap.summary_plot(shap_values, X_test, plot_type='bar')"
   ]
  }
 ],
 "metadata": {
  "@webio": {
   "lastCommId": null,
   "lastKernelId": null
  },
  "kernelspec": {
   "display_name": "Python 3 (ipykernel)",
   "language": "python",
   "name": "python3"
  },
  "language_info": {
   "codemirror_mode": {
    "name": "ipython",
    "version": 3
   },
   "file_extension": ".py",
   "mimetype": "text/x-python",
   "name": "python",
   "nbconvert_exporter": "python",
   "pygments_lexer": "ipython3",
   "version": "3.8.13"
  }
 },
 "nbformat": 4,
 "nbformat_minor": 4
}
